{
 "cells": [
  {
   "cell_type": "markdown",
   "id": "adjusted-arctic",
   "metadata": {},
   "source": [
    "## 2. Исправление опечаток.\n",
    "\n",
    "На основе [статьи](http://norvig.com/spell-correct.html) *Питера Норвига, Google*"
   ]
  },
  {
   "cell_type": "markdown",
   "id": "registered-progressive",
   "metadata": {},
   "source": [
    "### 2.1. Набор слов"
   ]
  },
  {
   "cell_type": "code",
   "execution_count": 109,
   "id": "above-volunteer",
   "metadata": {},
   "outputs": [],
   "source": [
    "import re\n",
    "import math\n",
    "import pickle\n",
    "import string\n",
    "from collections import Counter\n",
    "import matplotlib.pyplot as plt\n",
    "import requests\n",
    "from download_text import get_grams_from_text\n",
    "from corus.sources.meta import METAS\n",
    "from corus.readme import format_metas, show_html, patch_readme\n",
    "from corus import load_lenta"
   ]
  },
  {
   "cell_type": "markdown",
   "id": "seventh-ambassador",
   "metadata": {},
   "source": [
    "Прежде чем что-то делать со словами(править опечатки, например), надо эти слова откуда-то взять. Придется найти некий текст, возможно - из файла, а возможно - лежащий где-то на просторах интернета. Затем нужно этот текст разбить на слова.\n",
    "\n",
    "Будем делать это с помощью библиотеки `corus`, в которой содержатся ссылки для скачивания огромного количества текста."
   ]
  },
  {
   "cell_type": "markdown",
   "id": "allied-orleans",
   "metadata": {},
   "source": [
    "```python\n",
    "html = format_metas(METAS)\n",
    "show_html(html)\n",
    "```\n",
    "\n",
    "```bash\n",
    "!wget -P ~/IHaskell/word_data/ https://github.com/dialogue-evaluation/GramEval2020/archive/master.zip\n",
    "```"
   ]
  },
  {
   "cell_type": "markdown",
   "id": "antique-iceland",
   "metadata": {},
   "source": [
    "Получим уникальные слова, использовавшиеся в газете `lenta-ru`."
   ]
  },
  {
   "cell_type": "code",
   "execution_count": 60,
   "id": "changing-chorus",
   "metadata": {
    "collapsed": true
   },
   "outputs": [
    {
     "name": "stdout",
     "output_type": "stream",
     "text": [
      "Sentence 5000\n",
      "Sentence 10000\n",
      "Sentence 15000\n",
      "Sentence 20000\n",
      "Sentence 25000\n",
      "Sentence 30000\n",
      "Sentence 35000\n",
      "Sentence 40000\n",
      "Sentence 45000\n",
      "Sentence 50000\n",
      "Sentence 55000\n",
      "Sentence 60000\n",
      "Sentence 65000\n",
      "Sentence 70000\n",
      "Sentence 75000\n",
      "Sentence 80000\n",
      "Sentence 85000\n",
      "Sentence 90000\n",
      "Sentence 95000\n"
     ]
    }
   ],
   "source": [
    "g = get_grams_from_text(path='../../../word_data/lenta-ru-news.csv.gz',\n",
    "                        n=1, \n",
    "                        amount_of_sentense=100000, \n",
    "                        show_how_much=5000, \n",
    "                        delete_stop_words=False)"
   ]
  },
  {
   "cell_type": "markdown",
   "id": "surprising-external",
   "metadata": {},
   "source": [
    "Сохраним слова в файл, чтобы не тратить время на загрузку."
   ]
  },
  {
   "cell_type": "code",
   "execution_count": 110,
   "id": "intended-tracy",
   "metadata": {},
   "outputs": [],
   "source": [
    "pickle.dump(g, open(\"../../../word_data/words.pkl\", \"wb\"))"
   ]
  },
  {
   "cell_type": "code",
   "execution_count": 111,
   "id": "prepared-engineering",
   "metadata": {},
   "outputs": [],
   "source": [
    "w = pickle.load(open(\"../../../word_data/words.pkl\", \"rb\"))"
   ]
  },
  {
   "cell_type": "code",
   "execution_count": 117,
   "id": "different-organic",
   "metadata": {},
   "outputs": [],
   "source": [
    "assert len(w[1]) == len(g[1])"
   ]
  },
  {
   "cell_type": "markdown",
   "id": "handled-software",
   "metadata": {},
   "source": [
    "Ниже - функция, ищущая слова в тексте и приводящая в нижний регистр."
   ]
  },
  {
   "cell_type": "code",
   "execution_count": 61,
   "id": "sunrise-logistics",
   "metadata": {},
   "outputs": [],
   "source": [
    "def tokens(text):\n",
    "    \"\"\"Возвращает список токенов (подряд идущих буквенных последовательностей) в тексте. \n",
    "       Текст при этом приводится к нижнему регистру.\"\"\"\n",
    "    return re.findall(r'[a-z]+', text.lower())"
   ]
  },
  {
   "cell_type": "code",
   "execution_count": 62,
   "id": "developmental-insulin",
   "metadata": {},
   "outputs": [
    {
     "data": {
      "text/plain": [
       "337838"
      ]
     },
     "execution_count": 62,
     "metadata": {},
     "output_type": "execute_result"
    }
   ],
   "source": [
    "WORDS = g[1]\n",
    "len(WORDS)"
   ]
  },
  {
   "cell_type": "markdown",
   "id": "spanish-transformation",
   "metadata": {},
   "source": [
    "Мы создали список *WORDS* - список слов в том порядке, как они следуют в *TEXT*. Мы можем использовать этот список в качестве порождающей модели (*generative model*) текста. \n",
    "\n",
    "Язык - очень сложная штука и мы создаем крайне упрощенную модель языка, которая может ухватить часть этой сложной структуры. В модели мешка слов , мы полностью игнорируем порядок слов, зато соблюдаем их частоту. Представить это можно себе так: вы берете все слова текста и забрасываете их в мешок. Теперь, если вы хотите сгенерировать предложение с помощью этого мешка, вы просто трясете его(слова там перемешиваются) и достаете указанное количество слов по одному (мешок непрозрачный, так что слоа вы достаете наугад). Почти наверное полученное предложение будет грамматически некорректным, но слова в этом предложении будут в +- правильной пропорции (более частые будут встречаться чаще, более редкие - реже). "
   ]
  },
  {
   "cell_type": "markdown",
   "id": "strategic-tuesday",
   "metadata": {},
   "source": [
    "Другое представление мешка слов - *Counter*. Это словарь, состоящий из пар **{'слово': кол-во вхождений слова в текст}**. Например,"
   ]
  },
  {
   "cell_type": "code",
   "execution_count": 66,
   "id": "renewable-lightweight",
   "metadata": {},
   "outputs": [
    {
     "name": "stdout",
     "output_type": "stream",
     "text": [
      "[('в', 843830), ('и', 369440), ('на', 331820), ('что', 206379), ('с', 185611), ('по', 176561), ('не', 126844), ('из', 102809), ('за', 85195), ('этом', 83369)]\n"
     ]
    }
   ],
   "source": [
    "print(WORDS.most_common(10))"
   ]
  },
  {
   "cell_type": "markdown",
   "id": "danish-vintage",
   "metadata": {},
   "source": [
    "#### Закон Ципфа"
   ]
  },
  {
   "cell_type": "markdown",
   "id": "inside-priority",
   "metadata": {},
   "source": [
    "В 1935, лингвист Джордж Ципф отметил, что в любом большом тексте $n$-тое наиболее часто встречающееся слово появляется с частотой ~$\\frac{1}{n}$ от частоты наиболее часто встречающегося слова. Это наблюдение получило название **Закона Ципфа**, несмотря на то, что Феликс Ауэрбах заметил это еще в 1913 году. \n",
    "\n",
    "Если нарисовать частоты слов, начиная от самого часто встречающегося, на *log-log-графике*, они должны приблизительно следовать прямой линии, если *закон Ципфа* верен. Для нашего случая все, вроде бы, `+-` совпадает:"
   ]
  },
  {
   "cell_type": "code",
   "execution_count": 80,
   "id": "hearing-duration",
   "metadata": {},
   "outputs": [],
   "source": [
    "M = WORDS['в']\n",
    "counts = [c for (w, c) in WORDS.most_common()]\n",
    "probs = [M / word for word in range(1, len(WORDS) + 1)]"
   ]
  },
  {
   "cell_type": "code",
   "execution_count": 81,
   "id": "similar-storm",
   "metadata": {},
   "outputs": [
    {
     "data": {
      "image/png": "[encoded data removed]",
      "text/plain": [
       "<Figure size 864x576 with 1 Axes>"
      ]
     },
     "metadata": {
      "needs_background": "light"
     },
     "output_type": "display_data"
    }
   ],
   "source": [
    "fig, ax = plt.subplots(1, 1, figsize=(12, 8))\n",
    "\n",
    "ax.plot(counts, color='darkred', label='counts')\n",
    "ax.plot(probs, color='darkblue', label='probablities')\n",
    "\n",
    "ax.set_yscale('log') \n",
    "ax.set_xscale('log')\n",
    "ax.set_title('Частота n-того наиболее частого слова и линия 1/n.')\n",
    "ax.legend()\n",
    "plt.show()"
   ]
  },
  {
   "cell_type": "markdown",
   "id": "biblical-heavy",
   "metadata": {},
   "source": [
    "## 2.2. `Peter Norvig Spellchecker`"
   ]
  },
  {
   "cell_type": "code",
   "execution_count": 90,
   "id": "dutch-omega",
   "metadata": {},
   "outputs": [],
   "source": [
    "ALPHABET = {'ENG': 'abcdefghijklmnopqrstuvwxyz',\n",
    "            'RUS': 'абвгдеёжзийклмнопрстуфхцчшщъыьэюя'}\n",
    "COUNTS = WORDS"
   ]
  },
  {
   "cell_type": "markdown",
   "id": "crazy-infection",
   "metadata": {},
   "source": [
    "**Постановка задачи**:\n",
    "\n",
    "Для данного слова $w$ нужно найти наиболее вероятную правку `c = correct(w)`. Для этого необходимо найти всех кандидатов $c$, которые достаточно **близкие** к $w$ и необходимо выбрать **наиболее вероятный** из них.\n",
    "\n",
    "Осталось понять, что такое *близкие* и *наиболее вероятный*.\n",
    "\n",
    "**Применим наивный подход:** всегда будем брать более близкое слово, если проверки на близость недостаточно, берем слово с максимальной частотой из WORDS. \n",
    "\n",
    "Сейчас мы будем измерять близость с помощью расстояния Левенштейна: минимального необходимого количества удалений, перестановок, вставок, и замен символов, необходимых чтобы одно слово превратить в другое. \n",
    "\n",
    "Конечно же это не единственный возможный подход. Методом проб и ошибок можно понять, что поиск слов в пределах расстояния `edit_distance = 2` уже даст пристойные результаты (или можно почитать в литературе). Тогда остается определить функцию `correct(w)`:"
   ]
  },
  {
   "cell_type": "code",
   "execution_count": 91,
   "id": "legislative-galaxy",
   "metadata": {},
   "outputs": [],
   "source": [
    "def correct(word):\n",
    "    \"\"\"\n",
    "    Поиск лучшего исправления ошибки для данного слова.\n",
    "    \n",
    "    :param word: слово для исправления\n",
    "    :return: предрассчитать edit_distance == 0, затем 1, затем 2; в противном случае оставить слово \"как есть\"\n",
    "    \"\"\"\n",
    "    candidates = (known(edits0(word)) or \n",
    "                  known(edits1(word)) or \n",
    "                  known(edits2(word)) or \n",
    "                  [word])\n",
    "    return max(candidates, key=COUNTS.get)"
   ]
  },
  {
   "cell_type": "markdown",
   "id": "amended-target",
   "metadata": {},
   "source": [
    "Функции `known` и `edits0` простые, функция `edits2` легко получаются из функции `edits1`:"
   ]
  },
  {
   "cell_type": "code",
   "execution_count": 92,
   "id": "affected-maine",
   "metadata": {},
   "outputs": [],
   "source": [
    "def known(words):\n",
    "    \"Вернуть подмножество слов, которое есть в нашем словаре.\"\n",
    "    return {w for w in words if w in COUNTS}\n",
    "\n",
    "def edits0(word): \n",
    "    \"Вернуть все строки, которые находятся на edit_distance == 0 от word (т.е., просто само слово).\"\n",
    "    return {word}\n",
    "\n",
    "def edits2(word):\n",
    "    \"Вернуть все строки, которые находятся на edit_distance == 2 от word.\"\n",
    "    return {e2 for e1 in edits1(word) for e2 in edits1(e1)}"
   ]
  },
  {
   "cell_type": "markdown",
   "id": "charged-oliver",
   "metadata": {},
   "source": [
    "Функция `edits1(word)`должна возвращать множество слов, находящихся на расстоянии edit_distance == 1. Например для слова `\"wird\"` это множество будет включать слова `\"weird\"` (вставка буквы `e`) и слово `\"word\"` (замена `i` на `o`), , а также `\"iwrd\"` (перемена `w` и `i` местами); после чего может быть применена функция `known` для фильтрации и выбора подходящих кандидатов).Например можно *разбить* исходное слово на пару всеми возможными способами (каждое *разбиение* даст нам пару \"слов\"), `(a, b)`, первая часть - до места разбиения, а вторая - после, и в каждом месте разбиения можно: удалить, поменять местами, заменить или вставить букву:\n",
    "\n",
    "<table>\n",
    "  <tr><td> пары: <td><tt> Ø+wird <td><tt> w+ird <td><tt> wi+rd <td><tt>wir+d<td><tt>wird+Ø<td><i>Notes:</i><tt> (<i>a</i>, <i>b</i>)</tt> пара</i>\n",
    "  <tr><td> удаления: <td><tt>Ø+ird<td><tt> w+rd<td><tt> wi+d<td><tt> wir+Ø<td><td><i>Удаление первой буквы в b</i>\n",
    "  <tr><td> перемена мест: <td><tt>Ø+iwrd<td><tt> w+rid<td><tt> wi+dr</tt><td><td><td><i>Перемена мест двух первых букв b\n",
    "  <tr><td> замена: <td><tt>Ø+?ird<td><tt> w+?rd<td><tt> wi+?d<td><tt> wir+?</tt><td><td><i>замена буквы в начале b\n",
    "  <tr><td> вставка: <td><tt>Ø+?+wird<td><tt> w+?+ird<td><tt> wi+?+rd<td><tt> wir+?+d<td><tt> wird+?+Ø</tt><td><i>Вставка буквы между a и b\n",
    "</table>"
   ]
  },
  {
   "cell_type": "code",
   "execution_count": 93,
   "id": "qualified-ranking",
   "metadata": {},
   "outputs": [],
   "source": [
    "def edits1(word):\n",
    "    \"Возвращает список всех строк на расстоянии edit_distance == 1 от word.\"\n",
    "    pairs      = splits(word)\n",
    "    deletes    = [a+b[1:]           for (a, b) in pairs if b]\n",
    "    transposes = [a+b[1]+b[0]+b[2:] for (a, b) in pairs if len(b) > 1]\n",
    "    replaces   = [a+c+b[1:]         for (a, b) in pairs for c in alphabet if b]\n",
    "    inserts    = [a+c+b             for (a, b) in pairs for c in alphabet]\n",
    "    return set(deletes + transposes + replaces + inserts)\n",
    "\n",
    "def splits(word):\n",
    "    \"Возвращает список всех возможных разбиений слова на пару (a, b).\"\n",
    "    return [(word[:i], word[i:]) \n",
    "            for i in range(len(word)+1)]\n",
    "\n",
    "alphabet = ALPHABET['RUS']"
   ]
  },
  {
   "cell_type": "markdown",
   "id": "lightweight-afternoon",
   "metadata": {},
   "source": [
    "Проверим на примерах"
   ]
  },
  {
   "cell_type": "code",
   "execution_count": 103,
   "id": "falling-athens",
   "metadata": {},
   "outputs": [
    {
     "name": "stdout",
     "output_type": "stream",
     "text": [
      "[('', 'птца'), ('п', 'тца'), ('пт', 'ца'), ('птц', 'а'), ('птца', '')]\n",
      "33\n",
      "{'птца'}\n",
      "['птце', 'птра', 'птица', 'пёца', 'птфа', 'птмца', 'пдца', 'птеца', 'аптца', 'птцш']\n",
      "39332\n"
     ]
    }
   ],
   "source": [
    "print(splits('птца'))\n",
    "print(len(alphabet))\n",
    "print(edits0('птца'))\n",
    "print(list(edits1('птца'))[:10])\n",
    "print(len(edits2('птца')))"
   ]
  },
  {
   "cell_type": "markdown",
   "id": "indirect-education",
   "metadata": {},
   "source": [
    "Теперь напишем функцию для вывода исправленных ошибок в тексте."
   ]
  },
  {
   "cell_type": "code",
   "execution_count": 105,
   "id": "sought-adams",
   "metadata": {},
   "outputs": [],
   "source": [
    "def correct_text(text, language='rus'):\n",
    "    \"Исправить все слова с опечатками в тексте.\"\n",
    "    shab = '[a-zA-Z]+' if language == 'eng' else '[а-яА-Я]+'\n",
    "    return re.sub(shab, correct_match, text)\n",
    "\n",
    "def correct_match(match):\n",
    "    \"Исправить слово word в match-группе, сохранив регистр: upper/lower/title.\"\n",
    "    word = match.group()\n",
    "    return case_of(word)(correct(word.lower()))\n",
    "\n",
    "def case_of(text):\n",
    "    \"Возвращает функцию регистра по тексту: upper, lower, title, или str.\"\n",
    "    return (str.upper if text.isupper() else\n",
    "            str.lower if text.islower() else\n",
    "            str.title if text.istitle() else\n",
    "            str)"
   ]
  },
  {
   "cell_type": "code",
   "execution_count": 107,
   "id": "equivalent-borough",
   "metadata": {},
   "outputs": [
    {
     "data": {
      "text/plain": [
       "'Я бы не хотел задаваться вопросом. Что ты здесь делаешь?'"
      ]
     },
     "execution_count": 107,
     "metadata": {},
     "output_type": "execute_result"
    }
   ],
   "source": [
    "correct_text('Я бы не хоетл задаваться вопрсом. Чот ты здес длаешь?')"
   ]
  },
  {
   "cell_type": "markdown",
   "id": "signed-scheme",
   "metadata": {},
   "source": [
    "**Links**:\n",
    "\n",
    "- [Текст с ошибками](https://yandex.ru/search/?text=Efficient%20Dependency%20Parsing%20In%20Case%20Of%20Ungrammatical%20Sentences&clid=2411726&lr=2)\n",
    "- [Распознавание текста с ошибками](https://ru.stackoverflow.com/questions/859694/%D0%A0%D0%B0%D1%81%D0%BF%D0%BE%D0%B7%D0%BD%D0%B0%D0%B2%D0%B0%D0%BD%D0%B8%D0%B5-%D1%82%D0%B5%D0%BA%D1%81%D1%82%D0%B0-%D1%81-%D0%BE%D1%88%D0%B8%D0%B1%D0%BA%D0%B0%D0%BC%D0%B8)\n",
    "- [Опечатки с учетом контекста](https://habr.com/ru/post/346618/)\n",
    "- [Spell-Corrector](http://norvig.com/spell-correct.html)\n",
    "- [Project JetBrains](https://internship.jetbrains.com/projects/848/)\n",
    "- [Supar](https://github.com/yzhangcs/parser)\n",
    "- [Error-repair Dependency](https://www.aclweb.org/anthology/P17-2030.pdf)\n",
    "- [Parser](https://github.com/HHashemi?tab=repositories)\n",
    "- [Dependency Parser](https://medium.com/data-science-in-your-pocket/dependency-parsing-associated-algorithms-in-nlp-96d65dd95d3e)\n",
    "- [Dependency NLP Parser](http://nlpprogress.com/english/dependency_parsing.html)\n",
    "- [Error-repair Dependency Paper](https://www.researchgate.net/publication/318741850_Error-repair_Dependency_Parsing_for_Ungrammatical_Texts)\n",
    "- [Исправление опечаток - эмбеддинги](https://habr.com/ru/company/singularis/blog/358664/)\n",
    "- [Обзор открытых решений исправления опечаток](https://habr.com/ru/company/naumen/blog/463683/)\n",
    "- [One more](https://savepearlharbor.com/?p=293440)\n",
    "- [SpellChecker](https://github.com/pileyan/webinar_spellchecker)\n",
    "- [SymSpell](https://github.com/wolfgarbe/symspell)\n",
    "- [1000X Faster SymSpell](https://wolfgarbe.medium.com/1000x-faster-spelling-correction-algorithm-2012-8701fcd87a5f)"
   ]
  }
 ],
 "metadata": {
  "kernelspec": {
   "display_name": "diploma_paper",
   "language": "python",
   "name": "diploma_paper"
  },
  "language_info": {
   "codemirror_mode": {
    "name": "ipython",
    "version": 3
   },
   "file_extension": ".py",
   "mimetype": "text/x-python",
   "name": "python",
   "nbconvert_exporter": "python",
   "pygments_lexer": "ipython3",
   "version": "3.8.5"
  }
 },
 "nbformat": 4,
 "nbformat_minor": 5
}
