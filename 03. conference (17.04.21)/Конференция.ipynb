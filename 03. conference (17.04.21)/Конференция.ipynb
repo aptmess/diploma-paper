{
 "cells": [
  {
   "cell_type": "markdown",
   "id": "recognized-disability",
   "metadata": {},
   "source": [
    "- Слайд, с перечислением того, какие бывают задачи: для чего это все нужно\n",
    "- \"Я рассматривал задачу, где нужно по тексту в чеке определить его категорию...:\n",
    "- Что именно рассматривается в задаче:\n",
    "    - восстановление пробелов;\n",
    "    - восстановление опечаток;\n",
    "    - сокращения;\n",
    "    - методы;\n",
    "    \n",
    "- Завершающий слайд - методы представляют..."
   ]
  },
  {
   "cell_type": "code",
   "execution_count": null,
   "id": "ongoing-contributor",
   "metadata": {},
   "outputs": [],
   "source": []
  }
 ],
 "metadata": {
  "kernelspec": {
   "display_name": "diploma_paper",
   "language": "python",
   "name": "diploma_paper"
  },
  "language_info": {
   "codemirror_mode": {
    "name": "ipython",
    "version": 3
   },
   "file_extension": ".py",
   "mimetype": "text/x-python",
   "name": "python",
   "nbconvert_exporter": "python",
   "pygments_lexer": "ipython3",
   "version": "3.8.5"
  }
 },
 "nbformat": 4,
 "nbformat_minor": 5
}
